{
 "cells": [
  {
   "cell_type": "code",
   "execution_count": 27,
   "id": "f9fb6386",
   "metadata": {},
   "outputs": [
    {
     "name": "stdout",
     "output_type": "stream",
     "text": [
      "/Users/akatsukahiroaki/git/polarization-foils-XR/20220926_XRR/20220926_ana\n"
     ]
    }
   ],
   "source": [
    "cd /Users/akatsukahiroaki/git/polarization-foils-XR/20220926_XRR/20220926_ana "
   ]
  },
  {
   "cell_type": "code",
   "execution_count": 28,
   "id": "8759d928",
   "metadata": {},
   "outputs": [
    {
     "ename": "FileNotFoundError",
     "evalue": "[Errno 2] No such file or directory: 'A9_2deg_min'",
     "output_type": "error",
     "traceback": [
      "\u001b[0;31m---------------------------------------------------------------------------\u001b[0m",
      "\u001b[0;31mFileNotFoundError\u001b[0m                         Traceback (most recent call last)",
      "Input \u001b[0;32mIn [28]\u001b[0m, in \u001b[0;36m<cell line: 1>\u001b[0;34m()\u001b[0m\n\u001b[0;32m----> 1\u001b[0m input_data \u001b[38;5;241m=\u001b[39m \u001b[38;5;28;43mopen\u001b[39;49m\u001b[43m(\u001b[49m\u001b[38;5;124;43m'\u001b[39;49m\u001b[38;5;124;43mA9_2deg_min\u001b[39;49m\u001b[38;5;124;43m'\u001b[39;49m\u001b[43m,\u001b[49m\u001b[43m \u001b[49m\u001b[38;5;124;43m'\u001b[39;49m\u001b[38;5;124;43mr\u001b[39;49m\u001b[38;5;124;43m'\u001b[39;49m\u001b[43m)\u001b[49m\n",
      "\u001b[0;31mFileNotFoundError\u001b[0m: [Errno 2] No such file or directory: 'A9_2deg_min'"
     ]
    }
   ],
   "source": [
    "input_data = open('A9_2deg_min', 'r')"
   ]
  },
  {
   "cell_type": "code",
   "execution_count": 24,
   "id": "ff6d4750",
   "metadata": {},
   "outputs": [
    {
     "ename": "FileNotFoundError",
     "evalue": "[Errno 2] No such file or directory: '/git/polarization-foils-XR/20220926_XRR/20220926/A9_2deg_min.DAT '",
     "output_type": "error",
     "traceback": [
      "\u001b[0;31m---------------------------------------------------------------------------\u001b[0m",
      "\u001b[0;31mFileNotFoundError\u001b[0m                         Traceback (most recent call last)",
      "Input \u001b[0;32mIn [24]\u001b[0m, in \u001b[0;36m<cell line: 1>\u001b[0;34m()\u001b[0m\n\u001b[0;32m----> 1\u001b[0m input_data \u001b[38;5;241m=\u001b[39m \u001b[38;5;28;43mopen\u001b[39;49m\u001b[43m(\u001b[49m\u001b[38;5;124;43m'\u001b[39;49m\u001b[38;5;124;43m/git/polarization-foils-XR/20220926_XRR/20220926/A9_2deg_min.DAT \u001b[39;49m\u001b[38;5;124;43m'\u001b[39;49m\u001b[43m,\u001b[49m\u001b[43m \u001b[49m\u001b[38;5;124;43m'\u001b[39;49m\u001b[38;5;124;43mr\u001b[39;49m\u001b[38;5;124;43m'\u001b[39;49m\u001b[43m)\u001b[49m\n\u001b[1;32m      3\u001b[0m \u001b[38;5;66;03m# 一行ずつ読み込んでは表示する\u001b[39;00m\n\u001b[1;32m      4\u001b[0m \u001b[38;5;28;01mfor\u001b[39;00m rows \u001b[38;5;129;01min\u001b[39;00m input_data:\n\u001b[1;32m      5\u001b[0m     \u001b[38;5;66;03m# コメントアウト部分を省く処理\u001b[39;00m\n",
      "\u001b[0;31mFileNotFoundError\u001b[0m: [Errno 2] No such file or directory: '/git/polarization-foils-XR/20220926_XRR/20220926/A9_2deg_min.DAT '"
     ]
    }
   ],
   "source": [
    "input_data = open('/git/polarization-foils-XR/20220926_XRR/20220926/A9_2deg_min.DAT ', 'r')\n",
    "\n",
    "# 一行ずつ読み込んでは表示する\n",
    "for rows in input_data:\n",
    "    # コメントアウト部分を省く処理\n",
    "    if rows[0]=='#':\n",
    "        continue\n",
    "    \n",
    "    # 値を変数に格納する\n",
    "    row = rows.rstrip('\\n').split(' ')\n",
    "    month = row[0]\n",
    "    ave_temperature = row[1]\n",
    "    \n",
    "    # 各行の内容を確認\n",
    "    print(month, ave_temperature)\n",
    "\n",
    "# ファイルを閉じる\n",
    "input_data.close()"
   ]
  },
  {
   "cell_type": "code",
   "execution_count": 12,
   "id": "587489d5",
   "metadata": {},
   "outputs": [
    {
     "ename": "FileNotFoundError",
     "evalue": "[Errno 2] No such file or directory: 'sin.dat'",
     "output_type": "error",
     "traceback": [
      "\u001b[0;31m---------------------------------------------------------------------------\u001b[0m",
      "\u001b[0;31mFileNotFoundError\u001b[0m                         Traceback (most recent call last)",
      "Input \u001b[0;32mIn [12]\u001b[0m, in \u001b[0;36m<cell line: 8>\u001b[0;34m()\u001b[0m\n\u001b[1;32m      5\u001b[0m y_list\u001b[38;5;241m=\u001b[39m[]\n\u001b[1;32m      7\u001b[0m \u001b[38;5;124;03m'''sin.datをファイルをテキストモードで読み込む'''\u001b[39;00m\n\u001b[0;32m----> 8\u001b[0m f\u001b[38;5;241m=\u001b[39m\u001b[38;5;28;43mopen\u001b[39;49m\u001b[43m(\u001b[49m\u001b[38;5;124;43m'\u001b[39;49m\u001b[38;5;124;43msin.dat\u001b[39;49m\u001b[38;5;124;43m'\u001b[39;49m\u001b[43m,\u001b[49m\u001b[43m \u001b[49m\u001b[38;5;124;43m'\u001b[39;49m\u001b[38;5;124;43mrt\u001b[39;49m\u001b[38;5;124;43m'\u001b[39;49m\u001b[43m)\u001b[49m\n\u001b[1;32m     10\u001b[0m \u001b[38;5;124;03m'''fから一行ずつ取ってxとsinxの値をx_listとy_listに詰め込んでいる'''\u001b[39;00m\n\u001b[1;32m     11\u001b[0m \u001b[38;5;28;01mfor\u001b[39;00m line \u001b[38;5;129;01min\u001b[39;00m f:\n",
      "\u001b[0;31mFileNotFoundError\u001b[0m: [Errno 2] No such file or directory: 'sin.dat'"
     ]
    }
   ],
   "source": [
    "import matplotlib.pyplot as plt\n",
    "\n",
    "'''空のリストを用意して、後にx_listにxの値を詰め、y_listにsinxの値を詰めていく'''\n",
    "x_list=[]\n",
    "y_list=[]\n",
    "\n",
    "'''sin.datをファイルをテキストモードで読み込む'''\n",
    "f=open('sin.dat', 'rt')\n",
    "\n",
    "'''fから一行ずつ取ってxとsinxの値をx_listとy_listに詰め込んでいる'''\n",
    "for line in f:\n",
    "    data=line[:-1].split(' ') \n",
    "#    print(data) '''dataがどういう形になるか気になる方は#を外して実行してみてください。'''\n",
    "    x_list.append(float(data[0]))\n",
    "    y_list.append(float(data[1]))\n",
    "\n",
    "\n",
    "#plt.plot(x_list, y_list,color='BLUE',linewidth=3.0) '''線でつないだ絵を見たい場合'''\n",
    "\n",
    "plt.plot(x_list, y_list, 'o', linestyle='None')\n",
    "\n",
    "'''横軸と縦軸のラベル付け'''\n",
    "plt.xlabel('x')\n",
    "plt.ylabel('y')\n",
    "\n",
    "'''グリッド線を引く'''\n",
    "plt.grid(True)\n",
    "\n",
    "'''表示'''\n",
    "plt.show()"
   ]
  },
  {
   "cell_type": "code",
   "execution_count": null,
   "id": "cf264faa",
   "metadata": {},
   "outputs": [],
   "source": []
  }
 ],
 "metadata": {
  "kernelspec": {
   "display_name": "Python 3 (ipykernel)",
   "language": "python",
   "name": "python3"
  },
  "language_info": {
   "codemirror_mode": {
    "name": "ipython",
    "version": 3
   },
   "file_extension": ".py",
   "mimetype": "text/x-python",
   "name": "python",
   "nbconvert_exporter": "python",
   "pygments_lexer": "ipython3",
   "version": "3.9.12"
  }
 },
 "nbformat": 4,
 "nbformat_minor": 5
}
