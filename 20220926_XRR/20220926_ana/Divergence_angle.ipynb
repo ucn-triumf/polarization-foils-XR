{
 "cells": [
  {
   "cell_type": "code",
   "execution_count": 84,
   "id": "d9443ee6",
   "metadata": {},
   "outputs": [],
   "source": [
    "import numpy as np\n",
    "import matplotlib.pyplot as plt"
   ]
  },
  {
   "cell_type": "code",
   "execution_count": null,
   "id": "d139f91e",
   "metadata": {},
   "outputs": [],
   "source": [
    "#0.5/x=0.025/(200-x)\n",
    "#20(200-x)=x\n",
    "#21x=4000\n",
    "\n",
    "x=4000/21\n",
    "print x"
   ]
  }
 ],
 "metadata": {
  "kernelspec": {
   "display_name": "Python 3 (ipykernel)",
   "language": "python",
   "name": "python3"
  },
  "language_info": {
   "codemirror_mode": {
    "name": "ipython",
    "version": 3
   },
   "file_extension": ".py",
   "mimetype": "text/x-python",
   "name": "python",
   "nbconvert_exporter": "python",
   "pygments_lexer": "ipython3",
   "version": "3.9.12"
  }
 },
 "nbformat": 4,
 "nbformat_minor": 5
}
